{
 "cells": [
  {
   "cell_type": "code",
   "execution_count": 21,
   "metadata": {},
   "outputs": [],
   "source": [
    "import pandas as pd"
   ]
  },
  {
   "cell_type": "code",
   "execution_count": 23,
   "metadata": {},
   "outputs": [],
   "source": [
    "df = pd.read_csv(\"/mnt/local/TGGATES/TGGATEs/meta/open_tggates_pathological_image.csv\", encoding=\"shift_jis\")\n",
    "df = df[df[\"ORGAN\"] == \"Liver\"]\n",
    "single_df = df[df[\"SINGLE_REPEAT_TYPE\"]==\"Single\"]\n",
    "repeat_df = df[~(df[\"SINGLE_REPEAT_TYPE\"]==\"Single\")]"
   ]
  },
  {
   "cell_type": "code",
   "execution_count": 33,
   "metadata": {},
   "outputs": [],
   "source": [
    "single_df[\"FILE_LOCATION\"].to_csv(\"/mnt/local/TGGATES/TGGATEs/WSI/single_url_list.txt\", index=False)\n",
    "repeat_df[\"FILE_LOCATION\"].to_csv(\"/mnt/local/TGGATES/TGGATEs/WSI/repeat_url_list.txt\", index=False)\n"
   ]
  },
  {
   "cell_type": "code",
   "execution_count": 51,
   "metadata": {},
   "outputs": [],
   "source": [
    "periods = df[\"SACRIFICE_PERIOD\"].unique()\n",
    "\n",
    "for s in periods:\n",
    "    df[df[\"SACRIFICE_PERIOD\"]==s][\"FILE_LOCATION\"].to_csv(f\"/mnt/local/TGGATES/TGGATEs/WSI/Liver/{s.replace(' ', '_')}_url_list.txt\", index=False)\n"
   ]
  },
  {
   "cell_type": "code",
   "execution_count": 38,
   "metadata": {},
   "outputs": [
    {
     "data": {
      "text/plain": [
       "array(['3 hr', '6 hr', '9 hr', '24 hr', '72 hr', '4 day', '15 day',\n",
       "       '8 day', '29 day'], dtype=object)"
      ]
     },
     "execution_count": 38,
     "metadata": {},
     "output_type": "execute_result"
    }
   ],
   "source": [
    "df[\"SACRIFICE_PERIOD\"].unique()"
   ]
  },
  {
   "cell_type": "code",
   "execution_count": 41,
   "metadata": {},
   "outputs": [],
   "source": [
    "single_period = ['3 hr', '6 hr', '9 hr', '24 hr', '72 hr']\n",
    "repeat_period = ['4 day', '15 day', '8 day', '29 day']"
   ]
  },
  {
   "cell_type": "code",
   "execution_count": 46,
   "metadata": {},
   "outputs": [
    {
     "name": "stderr",
     "output_type": "stream",
     "text": [
      "mkdir: cannot create directory ‘/mnt/local/TGGATES/TGGATEs/WSI/Liver/single/3_hr’: File exists\n",
      "mkdir: cannot create directory ‘/mnt/local/TGGATES/TGGATEs/WSI/Liver/single/6_hr’: File exists\n",
      "mkdir: cannot create directory ‘/mnt/local/TGGATES/TGGATEs/WSI/Liver/single/9_hr’: File exists\n",
      "mkdir: cannot create directory ‘/mnt/local/TGGATES/TGGATEs/WSI/Liver/single/24_hr’: File exists\n",
      "mkdir: cannot create directory ‘/mnt/local/TGGATES/TGGATEs/WSI/Liver/single/72_hr’: File exists\n"
     ]
    }
   ],
   "source": [
    "import os\n",
    "\n",
    "for s in single_period:\n",
    "    s = s.replace(\" \", \"_\")\n",
    "    os.system(f\"mkdir /mnt/local/TGGATES/TGGATEs/WSI/Liver/single/{s}\")\n",
    "\n",
    "for s in repeat_period:\n",
    "    s = s.replace(\" \", \"_\")\n",
    "    os.system(f\"mkdir /mnt/local/TGGATES/TGGATEs/WSI/Liver/repeat/{s}\")"
   ]
  },
  {
   "cell_type": "code",
   "execution_count": 48,
   "metadata": {},
   "outputs": [
    {
     "name": "stderr",
     "output_type": "stream",
     "text": [
      "100%|██████████| 23711/23711 [04:31<00:00, 87.42it/s]  \n"
     ]
    }
   ],
   "source": [
    "from tqdm import tqdm\n",
    "\n",
    "for path, srtype, sp in tqdm(df[[\"FILE_LOCATION\", \"SINGLE_REPEAT_TYPE\", \"SACRIFICE_PERIOD\"]].to_numpy()):\n",
    "    p = path.split(\"/\")[-1]\n",
    "    sp = sp.replace(\" \", \"_\")\n",
    "    if os.path.exists(f\"/mnt/local/TGGATES/TGGATEs/WSI/Liver/repeat/{p}\"):\n",
    "        os.system(f\"mv /mnt/local/TGGATES/TGGATEs/WSI/Liver/repeat/{p} /mnt/local/TGGATES/TGGATEs/WSI/Liver/repeat/{sp}/\")\n",
    "    if os.path.exists(f\"/mnt/local/TGGATES/TGGATEs/WSI/Liver/single/{p}\"):\n",
    "        os.system(f\"mv /mnt/local/TGGATES/TGGATEs/WSI/Liver/single/{p} /mnt/local/TGGATES/TGGATEs/WSI/Liver/single/{sp}/\")"
   ]
  },
  {
   "cell_type": "code",
   "execution_count": null,
   "metadata": {},
   "outputs": [],
   "source": []
  }
 ],
 "metadata": {
  "kernelspec": {
   "display_name": "Python 3.7.13 ('base')",
   "language": "python",
   "name": "python3"
  },
  "language_info": {
   "codemirror_mode": {
    "name": "ipython",
    "version": 3
   },
   "file_extension": ".py",
   "mimetype": "text/x-python",
   "name": "python",
   "nbconvert_exporter": "python",
   "pygments_lexer": "ipython3",
   "version": "3.7.13"
  },
  "orig_nbformat": 4,
  "vscode": {
   "interpreter": {
    "hash": "d4d1e4263499bec80672ea0156c357c1ee493ec2b1c70f0acce89fc37c4a6abe"
   }
  }
 },
 "nbformat": 4,
 "nbformat_minor": 2
}
