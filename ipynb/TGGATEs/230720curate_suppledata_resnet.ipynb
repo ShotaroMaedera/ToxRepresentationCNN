{
 "cells": [
  {
   "cell_type": "code",
   "execution_count": 1,
   "metadata": {},
   "outputs": [],
   "source": [
    "!mkdir ../../outputs/results/suppledata_resnet"
   ]
  },
  {
   "cell_type": "code",
   "execution_count": 2,
   "metadata": {},
   "outputs": [],
   "source": [
    "import pandas as pd\n",
    "\n",
    "model_name = [\"Control\"] + [f\"Layer {4-i}\" for i in range(4)] + [\"Full\"]\n",
    "layer_name = [\"Stem\"] +  [f\"Layer {i}\" for i in range(1, 5)] \n",
    "\n"
   ]
  },
  {
   "cell_type": "code",
   "execution_count": 39,
   "metadata": {},
   "outputs": [],
   "source": [
    "df = pd.read_csv(f\"../../outputs/results/230308finding_type_validation_loo_seed123_epoch5_resnet.csv\")\n",
    "df[\"seed\"] = 123"
   ]
  },
  {
   "cell_type": "code",
   "execution_count": 40,
   "metadata": {},
   "outputs": [],
   "source": [
    "df.to_csv(\"../../outputs/results/suppledata_resnet/LOOraw.csv\", index=False)"
   ]
  },
  {
   "cell_type": "code",
   "execution_count": 41,
   "metadata": {},
   "outputs": [],
   "source": [
    "import numpy as np\n",
    "\n",
    "dft = df.groupby([\"model\", \"layer\"]).mean().T\n",
    "var_df = pd.DataFrame()\n",
    "\n",
    "for mtrc in [\"AUROC\", \"MCC\", \"Balanced Accuracy\", \"AP\"]:\n",
    "    vars = []\n",
    "    for i, m in enumerate(model_name):\n",
    "        dat = [dft[(m, l)][mtrc] for j, l in enumerate(layer_name)]\n",
    "        if len(dat) == 1:\n",
    "            vars.append(np.nan)\n",
    "        else:\n",
    "            vars.append(np.var(dat, ddof=0))\n",
    "    var_df[mtrc] = vars\n",
    "var_df.index = model_name\n",
    "var_df.to_csv(\"../../outputs/results/suppledata_resnet/loo_var_model.csv\")"
   ]
  },
  {
   "cell_type": "code",
   "execution_count": 42,
   "metadata": {},
   "outputs": [],
   "source": [
    "dft = df.groupby([\"model\", \"layer\"]).mean().T\n",
    "var_df = pd.DataFrame()\n",
    "\n",
    "for mtrc in [\"AUROC\", \"MCC\", \"Balanced Accuracy\", \"AP\"]:\n",
    "    vars = []\n",
    "    for i, l in enumerate(layer_name):\n",
    "        dat = [dft[(m, l)][mtrc] for j, m in enumerate(model_name)]\n",
    "        if len(dat) == 1:\n",
    "            vars.append(np.nan)\n",
    "        else:\n",
    "            vars.append(np.var(dat, ddof=0))\n",
    "    var_df[mtrc] = vars\n",
    "var_df.index = layer_name\n",
    "var_df.to_csv(\"../../outputs/results/suppledata_resnet/loo_var_layer.csv\")"
   ]
  },
  {
   "cell_type": "code",
   "execution_count": null,
   "metadata": {},
   "outputs": [],
   "source": []
  },
  {
   "cell_type": "code",
   "execution_count": null,
   "metadata": {},
   "outputs": [],
   "source": []
  },
  {
   "cell_type": "code",
   "execution_count": null,
   "metadata": {},
   "outputs": [],
   "source": []
  },
  {
   "cell_type": "code",
   "execution_count": null,
   "metadata": {},
   "outputs": [],
   "source": []
  },
  {
   "cell_type": "code",
   "execution_count": 43,
   "metadata": {},
   "outputs": [],
   "source": [
    "df = pd.read_csv(f\"../../outputs/results/230704compound_validation_resnet.csv\")\n",
    "df1 = pd.read_csv(f\"../../outputs/results/230704compound_validation_macro_resnet.csv\")\n",
    "df[\"Balanced Accuracy (Multiclass)\"] = df1[\"Macro Balanced Accuracy\"]\n",
    "df[\"seed\"] = 123\n",
    "df.to_csv(\"../../outputs/results/suppledata_resnet/MoAraw.csv\", index=False)"
   ]
  },
  {
   "cell_type": "code",
   "execution_count": null,
   "metadata": {},
   "outputs": [],
   "source": []
  },
  {
   "cell_type": "code",
   "execution_count": null,
   "metadata": {},
   "outputs": [],
   "source": []
  },
  {
   "cell_type": "code",
   "execution_count": 44,
   "metadata": {},
   "outputs": [],
   "source": [
    "dft = df.groupby([\"model\", \"layer\"]).mean().T\n",
    "\n",
    "var_df = pd.DataFrame()\n",
    "\n",
    "for mtrc in ['Balanced Accuracy (Multiclass)']:\n",
    "    vars = []\n",
    "    for i, m in enumerate(model_name):\n",
    "        dat = [dft[(m, l)][mtrc] for j, l in enumerate(layer_name)]\n",
    "        if len(dat) == 1:\n",
    "            vars.append(np.nan)\n",
    "        else:\n",
    "            vars.append(np.var(dat, ddof=0))\n",
    "    var_df[mtrc] = vars\n",
    "var_df.index = model_name\n",
    "var_df.to_csv(\"../../outputs/results/suppledata_resnet//230716var_model_MoA.csv\")"
   ]
  },
  {
   "cell_type": "code",
   "execution_count": 45,
   "metadata": {},
   "outputs": [],
   "source": [
    "var_df = pd.DataFrame()\n",
    "\n",
    "for mtrc in ['Balanced Accuracy (Multiclass)']:\n",
    "    vars = []\n",
    "    for i, l in enumerate(layer_name):\n",
    "        dat = [dft[(m, l)][mtrc] for j, m in enumerate(model_name)]\n",
    "        if len(dat) == 1:\n",
    "            vars.append(np.nan)\n",
    "        else:\n",
    "            vars.append(np.var(dat, ddof=0))\n",
    "    var_df[mtrc] = vars\n",
    "var_df.index = layer_name\n",
    "var_df.to_csv(\"../../outputs/results/suppledata_resnet/230716var_layer_MoA.csv\")"
   ]
  },
  {
   "cell_type": "code",
   "execution_count": null,
   "metadata": {},
   "outputs": [],
   "source": []
  },
  {
   "cell_type": "code",
   "execution_count": null,
   "metadata": {},
   "outputs": [],
   "source": []
  },
  {
   "cell_type": "code",
   "execution_count": null,
   "metadata": {},
   "outputs": [],
   "source": []
  },
  {
   "cell_type": "code",
   "execution_count": null,
   "metadata": {},
   "outputs": [],
   "source": []
  },
  {
   "cell_type": "code",
   "execution_count": null,
   "metadata": {},
   "outputs": [],
   "source": []
  },
  {
   "cell_type": "code",
   "execution_count": 46,
   "metadata": {},
   "outputs": [],
   "source": [
    "df = pd.read_csv(f\"../../outputs/230311prognosis_result_resnet.csv\")\n",
    "df[\"seed\"] = 123\n",
    "df[\"pathological findings\"] = df[\"finding type\"]\n"
   ]
  },
  {
   "cell_type": "code",
   "execution_count": 47,
   "metadata": {},
   "outputs": [
    {
     "data": {
      "text/html": [
       "<div>\n",
       "<style scoped>\n",
       "    .dataframe tbody tr th:only-of-type {\n",
       "        vertical-align: middle;\n",
       "    }\n",
       "\n",
       "    .dataframe tbody tr th {\n",
       "        vertical-align: top;\n",
       "    }\n",
       "\n",
       "    .dataframe thead th {\n",
       "        text-align: right;\n",
       "    }\n",
       "</style>\n",
       "<table border=\"1\" class=\"dataframe\">\n",
       "  <thead>\n",
       "    <tr style=\"text-align: right;\">\n",
       "      <th></th>\n",
       "      <th>model</th>\n",
       "      <th>layer</th>\n",
       "      <th>finding type</th>\n",
       "      <th>AUROC</th>\n",
       "      <th>AP</th>\n",
       "      <th>seed</th>\n",
       "      <th>pathological findings</th>\n",
       "    </tr>\n",
       "  </thead>\n",
       "  <tbody>\n",
       "    <tr>\n",
       "      <th>0</th>\n",
       "      <td>Control</td>\n",
       "      <td>Stem</td>\n",
       "      <td>Alteration, cytoplasmic</td>\n",
       "      <td>0.821425</td>\n",
       "      <td>0.613387</td>\n",
       "      <td>123</td>\n",
       "      <td>Alteration, cytoplasmic</td>\n",
       "    </tr>\n",
       "    <tr>\n",
       "      <th>1</th>\n",
       "      <td>Control</td>\n",
       "      <td>Stem</td>\n",
       "      <td>Alteration, nuclear</td>\n",
       "      <td>0.867665</td>\n",
       "      <td>0.621200</td>\n",
       "      <td>123</td>\n",
       "      <td>Alteration, nuclear</td>\n",
       "    </tr>\n",
       "    <tr>\n",
       "      <th>2</th>\n",
       "      <td>Control</td>\n",
       "      <td>Stem</td>\n",
       "      <td>Altered hepatocellular foci</td>\n",
       "      <td>0.832666</td>\n",
       "      <td>0.569391</td>\n",
       "      <td>123</td>\n",
       "      <td>Altered hepatocellular foci</td>\n",
       "    </tr>\n",
       "    <tr>\n",
       "      <th>3</th>\n",
       "      <td>Control</td>\n",
       "      <td>Stem</td>\n",
       "      <td>Anisonucleosis</td>\n",
       "      <td>0.832531</td>\n",
       "      <td>0.657033</td>\n",
       "      <td>123</td>\n",
       "      <td>Anisonucleosis</td>\n",
       "    </tr>\n",
       "    <tr>\n",
       "      <th>4</th>\n",
       "      <td>Control</td>\n",
       "      <td>Stem</td>\n",
       "      <td>Atrophy</td>\n",
       "      <td>0.913216</td>\n",
       "      <td>0.606135</td>\n",
       "      <td>123</td>\n",
       "      <td>Atrophy</td>\n",
       "    </tr>\n",
       "    <tr>\n",
       "      <th>...</th>\n",
       "      <td>...</td>\n",
       "      <td>...</td>\n",
       "      <td>...</td>\n",
       "      <td>...</td>\n",
       "      <td>...</td>\n",
       "      <td>...</td>\n",
       "      <td>...</td>\n",
       "    </tr>\n",
       "    <tr>\n",
       "      <th>1081</th>\n",
       "      <td>Pathological Findings</td>\n",
       "      <td>-</td>\n",
       "      <td>Proliferation, bile duct</td>\n",
       "      <td>0.583333</td>\n",
       "      <td>0.582933</td>\n",
       "      <td>123</td>\n",
       "      <td>Proliferation, bile duct</td>\n",
       "    </tr>\n",
       "    <tr>\n",
       "      <th>1082</th>\n",
       "      <td>Pathological Findings</td>\n",
       "      <td>-</td>\n",
       "      <td>Proliferation, oval cell</td>\n",
       "      <td>0.500000</td>\n",
       "      <td>0.500000</td>\n",
       "      <td>123</td>\n",
       "      <td>Proliferation, oval cell</td>\n",
       "    </tr>\n",
       "    <tr>\n",
       "      <th>1083</th>\n",
       "      <td>Pathological Findings</td>\n",
       "      <td>-</td>\n",
       "      <td>Single cell necrosis</td>\n",
       "      <td>0.579815</td>\n",
       "      <td>0.549722</td>\n",
       "      <td>123</td>\n",
       "      <td>Single cell necrosis</td>\n",
       "    </tr>\n",
       "    <tr>\n",
       "      <th>1084</th>\n",
       "      <td>Pathological Findings</td>\n",
       "      <td>-</td>\n",
       "      <td>Swelling</td>\n",
       "      <td>0.500000</td>\n",
       "      <td>0.500000</td>\n",
       "      <td>123</td>\n",
       "      <td>Swelling</td>\n",
       "    </tr>\n",
       "    <tr>\n",
       "      <th>1085</th>\n",
       "      <td>Pathological Findings</td>\n",
       "      <td>-</td>\n",
       "      <td>Vacuolization, cytoplasmic</td>\n",
       "      <td>0.511111</td>\n",
       "      <td>0.510972</td>\n",
       "      <td>123</td>\n",
       "      <td>Vacuolization, cytoplasmic</td>\n",
       "    </tr>\n",
       "  </tbody>\n",
       "</table>\n",
       "<p>1086 rows × 7 columns</p>\n",
       "</div>"
      ],
      "text/plain": [
       "                      model layer                 finding type     AUROC  \\\n",
       "0                   Control  Stem      Alteration, cytoplasmic  0.821425   \n",
       "1                   Control  Stem          Alteration, nuclear  0.867665   \n",
       "2                   Control  Stem  Altered hepatocellular foci  0.832666   \n",
       "3                   Control  Stem               Anisonucleosis  0.832531   \n",
       "4                   Control  Stem                      Atrophy  0.913216   \n",
       "...                     ...   ...                          ...       ...   \n",
       "1081  Pathological Findings     -     Proliferation, bile duct  0.583333   \n",
       "1082  Pathological Findings     -     Proliferation, oval cell  0.500000   \n",
       "1083  Pathological Findings     -         Single cell necrosis  0.579815   \n",
       "1084  Pathological Findings     -                     Swelling  0.500000   \n",
       "1085  Pathological Findings     -   Vacuolization, cytoplasmic  0.511111   \n",
       "\n",
       "            AP  seed        pathological findings  \n",
       "0     0.613387   123      Alteration, cytoplasmic  \n",
       "1     0.621200   123          Alteration, nuclear  \n",
       "2     0.569391   123  Altered hepatocellular foci  \n",
       "3     0.657033   123               Anisonucleosis  \n",
       "4     0.606135   123                      Atrophy  \n",
       "...        ...   ...                          ...  \n",
       "1081  0.582933   123     Proliferation, bile duct  \n",
       "1082  0.500000   123     Proliferation, oval cell  \n",
       "1083  0.549722   123         Single cell necrosis  \n",
       "1084  0.500000   123                     Swelling  \n",
       "1085  0.510972   123   Vacuolization, cytoplasmic  \n",
       "\n",
       "[1086 rows x 7 columns]"
      ]
     },
     "execution_count": 47,
     "metadata": {},
     "output_type": "execute_result"
    }
   ],
   "source": [
    "df"
   ]
  },
  {
   "cell_type": "code",
   "execution_count": 48,
   "metadata": {},
   "outputs": [],
   "source": [
    "dft = df.groupby([\"model\", \"layer\"]).mean().T\n",
    "\n",
    "var_df = pd.DataFrame()\n",
    "\n",
    "for mtrc in ['AUROC', 'AP']:\n",
    "    vars = []\n",
    "    for i, m in enumerate(model_name):\n",
    "        dat = [dft[(m, l)][mtrc] for j, l in enumerate(layer_name)]\n",
    "        if len(dat) == 1:\n",
    "            vars.append(np.nan)\n",
    "        else:\n",
    "            vars.append(np.var(dat, ddof=0))\n",
    "    var_df[mtrc] = vars\n",
    "var_df.index = model_name\n",
    "var_df\n",
    "var_df.to_csv(\"../../outputs/results/suppledata_resnet/230716var_model_prognosis.csv\")"
   ]
  },
  {
   "cell_type": "code",
   "execution_count": 49,
   "metadata": {},
   "outputs": [],
   "source": [
    "var_df = pd.DataFrame()\n",
    "\n",
    "for mtrc in ['AUROC', 'AP']:\n",
    "    vars = []\n",
    "    for i, l in enumerate(layer_name):\n",
    "        dat = [dft[(m, l)][mtrc] for j, m in enumerate(model_name)]\n",
    "        if len(dat) == 1:\n",
    "            vars.append(np.nan)\n",
    "        else:\n",
    "            vars.append(np.var(dat, ddof=0))\n",
    "    var_df[mtrc] = vars\n",
    "var_df.index = layer_name\n",
    "var_df\n",
    "var_df.to_csv(\"../../outputs/results/suppledata_resnet/230716var_layer_prognosis.csv\")"
   ]
  },
  {
   "cell_type": "code",
   "execution_count": null,
   "metadata": {},
   "outputs": [],
   "source": []
  },
  {
   "cell_type": "code",
   "execution_count": 51,
   "metadata": {},
   "outputs": [],
   "source": [
    "df.to_csv(\"../../outputs/results/suppledata_resnet/ELPraw.csv\")\n"
   ]
  },
  {
   "cell_type": "code",
   "execution_count": null,
   "metadata": {},
   "outputs": [],
   "source": []
  },
  {
   "attachments": {},
   "cell_type": "markdown",
   "metadata": {},
   "source": []
  },
  {
   "cell_type": "code",
   "execution_count": null,
   "metadata": {},
   "outputs": [],
   "source": [
    "\"../../outputs/results/230716var_layer_MoA.csv\""
   ]
  },
  {
   "cell_type": "code",
   "execution_count": null,
   "metadata": {},
   "outputs": [],
   "source": []
  }
 ],
 "metadata": {
  "kernelspec": {
   "display_name": "base",
   "language": "python",
   "name": "python3"
  },
  "language_info": {
   "codemirror_mode": {
    "name": "ipython",
    "version": 3
   },
   "file_extension": ".py",
   "mimetype": "text/x-python",
   "name": "python",
   "nbconvert_exporter": "python",
   "pygments_lexer": "ipython3",
   "version": "3.7.13"
  },
  "orig_nbformat": 4
 },
 "nbformat": 4,
 "nbformat_minor": 2
}
