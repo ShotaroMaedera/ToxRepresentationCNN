{
 "cells": [
  {
   "cell_type": "code",
   "execution_count": 1,
   "metadata": {},
   "outputs": [],
   "source": [
    "import pandas as pd\n",
    "\n",
    "ft = \"\"\"Alteration, cytoplasmic\n",
    "Alteration, nuclear\n",
    "Atrophy\n",
    "Atypia, nuclear\n",
    "Cellular infiltration, mononuclear cell\n",
    "Cellular infiltration\n",
    "Change, acidophilic\n",
    "Change, basophilic\n",
    "Change, eosinophilic\n",
    "Cyst\n",
    "Degeneration\n",
    "Degeneration, acidophilic, eosinophilic\n",
    "Degeneration, fatty\n",
    "Degeneration, granular, eosinophilic\n",
    "Degeneration, hydropic\n",
    "Degeneration, vacuolar\n",
    "Deposit, glycogen\n",
    "Deposit, hemosiderin\n",
    "Deposit, lipid\n",
    "Deposit, pigment\n",
    "Fibrosis\n",
    "Ground glass appearance\n",
    "Hematopoiesis, extramedullary\n",
    "Hemorrhage\n",
    "Hypertrophy\n",
    "Inclusion body, intracytoplasmic\n",
    "Increased mitosis\n",
    "Inflammation\n",
    "Inflammation, suppurative\n",
    "Lesion,NOS\n",
    "Microgranuloma\n",
    "Mineralization\n",
    "Necrosis\n",
    "Nodule, hepatodiaphragmatic\n",
    "Proliferation\n",
    "Proliferation, bile duct\n",
    "Proliferation, Kupffer cell\n",
    "Proliferation, oval cell\n",
    "Scar\n",
    "Single cell necrosis\n",
    "Swelling\n",
    "Thrombus\n",
    "Vacuolization, cytoplasmic\n",
    "Vacuolization, nuclear\"\"\""
   ]
  },
  {
   "cell_type": "code",
   "execution_count": 2,
   "metadata": {},
   "outputs": [],
   "source": [
    "ft = ft.split(\"\\n\")"
   ]
  },
  {
   "cell_type": "code",
   "execution_count": 3,
   "metadata": {},
   "outputs": [
    {
     "data": {
      "text/plain": [
       "['Alteration, cytoplasmic',\n",
       " 'Alteration, nuclear',\n",
       " 'Atrophy',\n",
       " 'Atypia, nuclear',\n",
       " 'Cellular infiltration, mononuclear cell',\n",
       " 'Cellular infiltration',\n",
       " 'Change, acidophilic',\n",
       " 'Change, basophilic',\n",
       " 'Change, eosinophilic',\n",
       " 'Cyst',\n",
       " 'Degeneration',\n",
       " 'Degeneration, acidophilic, eosinophilic',\n",
       " 'Degeneration, fatty',\n",
       " 'Degeneration, granular, eosinophilic',\n",
       " 'Degeneration, hydropic',\n",
       " 'Degeneration, vacuolar',\n",
       " 'Deposit, glycogen',\n",
       " 'Deposit, hemosiderin',\n",
       " 'Deposit, lipid',\n",
       " 'Deposit, pigment',\n",
       " 'Fibrosis',\n",
       " 'Ground glass appearance',\n",
       " 'Hematopoiesis, extramedullary',\n",
       " 'Hemorrhage',\n",
       " 'Hypertrophy',\n",
       " 'Inclusion body, intracytoplasmic',\n",
       " 'Increased mitosis',\n",
       " 'Inflammation',\n",
       " 'Inflammation, suppurative',\n",
       " 'Lesion,NOS',\n",
       " 'Microgranuloma',\n",
       " 'Mineralization',\n",
       " 'Necrosis',\n",
       " 'Nodule, hepatodiaphragmatic',\n",
       " 'Proliferation',\n",
       " 'Proliferation, bile duct',\n",
       " 'Proliferation, Kupffer cell',\n",
       " 'Proliferation, oval cell',\n",
       " 'Scar',\n",
       " 'Single cell necrosis',\n",
       " 'Swelling',\n",
       " 'Thrombus',\n",
       " 'Vacuolization, cytoplasmic',\n",
       " 'Vacuolization, nuclear']"
      ]
     },
     "execution_count": 3,
     "metadata": {},
     "output_type": "execute_result"
    }
   ],
   "source": [
    "ft"
   ]
  },
  {
   "cell_type": "code",
   "execution_count": 10,
   "metadata": {},
   "outputs": [],
   "source": [
    "df = pd.read_csv(\"../../data/TGGATEs/processed/info.csv\")"
   ]
  },
  {
   "cell_type": "code",
   "execution_count": 18,
   "metadata": {},
   "outputs": [],
   "source": [
    "for f in ft:\n",
    "    df[df[f]>0]"
   ]
  },
  {
   "cell_type": "code",
   "execution_count": 15,
   "metadata": {},
   "outputs": [],
   "source": [
    "df[\"EG\"] = df[\"EXP_ID\"]*100 + df[\"GROUP_ID\"]"
   ]
  },
  {
   "cell_type": "code",
   "execution_count": 25,
   "metadata": {},
   "outputs": [
    {
     "name": "stdout",
     "output_type": "stream",
     "text": [
      "Alteration, cytoplasmic 9\n",
      "Alteration, nuclear 16\n",
      "Atrophy 6\n",
      "Atypia, nuclear 3\n",
      "Cellular infiltration, mononuclear cell 24\n",
      "Cellular infiltration 218\n",
      "Change, acidophilic 31\n",
      "Change, basophilic 19\n",
      "Change, eosinophilic 116\n",
      "Cyst 2\n",
      "Degeneration 9\n",
      "Degeneration, acidophilic, eosinophilic 8\n",
      "Degeneration, fatty 19\n",
      "Degeneration, granular, eosinophilic 52\n",
      "Degeneration, hydropic 16\n",
      "Degeneration, vacuolar 2\n",
      "Deposit, glycogen 23\n",
      "Deposit, hemosiderin 6\n",
      "Deposit, lipid 2\n",
      "Deposit, pigment 13\n",
      "Fibrosis 27\n",
      "Ground glass appearance 57\n",
      "Hematopoiesis, extramedullary 30\n",
      "Hemorrhage 19\n",
      "Hypertrophy 306\n",
      "Inclusion body, intracytoplasmic 17\n",
      "Increased mitosis 164\n",
      "Inflammation 5\n",
      "Inflammation, suppurative 3\n",
      "Lesion,NOS 13\n",
      "Microgranuloma 290\n",
      "Mineralization 7\n",
      "Necrosis 427\n",
      "Nodule, hepatodiaphragmatic 13\n",
      "Proliferation 5\n",
      "Proliferation, bile duct 41\n",
      "Proliferation, Kupffer cell 20\n",
      "Proliferation, oval cell 15\n",
      "Scar 6\n",
      "Single cell necrosis 151\n",
      "Swelling 63\n",
      "Thrombus 1\n",
      "Vacuolization, cytoplasmic 108\n",
      "Vacuolization, nuclear 7\n"
     ]
    }
   ],
   "source": [
    "for f in ft:\n",
    "    print(f, len(df[df[f]>0][\"EG\"].unique()))"
   ]
  },
  {
   "cell_type": "code",
   "execution_count": 14,
   "metadata": {},
   "outputs": [],
   "source": [
    "ft_list = [line.rstrip() for line in open(f\"../../data/TGGATEs/processed/ft_list.txt\", \"r\")]"
   ]
  },
  {
   "cell_type": "code",
   "execution_count": 18,
   "metadata": {},
   "outputs": [
    {
     "name": "stdout",
     "output_type": "stream",
     "text": [
      "Alteration, cytoplasmic\t36\t0.0015062131291577758\n",
      "Alteration, nuclear\t61\t0.0025521944688506755\n",
      "Anisonucleosis\t52\t0.0021756411865612316\n",
      "Atrophy\t12\t0.000502071043052592\n",
      "Cellular foci\t31\t0.0012970168612191958\n",
      "Cellular infiltration\t482\t0.02016652022927911\n",
      "Cellular infiltration, mononuclear cell\t72\t0.0030124262583155516\n",
      "Change, acidophilic\t110\t0.0046023178946487595\n",
      "Change, basophilic\t70\t0.0029287477511401195\n",
      "Change, eosinophilic\t398\t0.016652022927910966\n",
      "DEAD\t148\t0.006192209530981967\n",
      "Degeneration\t24\t0.001004142086105184\n",
      "Degeneration, acidophilic, eosinophilic\t19\t0.0007949458181666039\n",
      "Degeneration, fatty\t88\t0.0036818543157190074\n",
      "Degeneration, granular, eosinophilic\t237\t0.00991590310028869\n",
      "Degeneration, hydropic\t56\t0.0023429982009120958\n",
      "Deposit, glycogen\t67\t0.002803229990376972\n",
      "Deposit, hemosiderin\t17\t0.000711267310991172\n",
      "Deposit, pigment\t40\t0.0016735701435086397\n",
      "Dilatation\t48\t0.002008284172210368\n",
      "Edema\t93\t0.0038910505836575876\n",
      "Fibrosis\t69\t0.0028869084975524035\n",
      "Granuloma\t14\t0.0005857495502280239\n",
      "Ground glass appearance\t210\t0.008786243253420358\n",
      "Hematopoiesis, extramedullary\t69\t0.0028869084975524035\n",
      "Hemorrhage\t54\t0.0022593196937366637\n",
      "Hypertrophy\t1134\t0.04744571356846994\n",
      "Inclusion body, intracytoplasmic\t53\t0.0022174804401489476\n",
      "Increased mitosis\t428\t0.017907200535542445\n",
      "Inflammation\t7\t0.00029287477511401197\n",
      "Lesion,NOS\t44\t0.0018409271578595037\n",
      "Microgranuloma\t447\t0.01870214635370905\n",
      "Mineralization\t7\t0.00029287477511401197\n",
      "Necrosis\t614\t0.02568930170285762\n",
      "Nodule, hepatodiaphragmatic\t13\t0.0005439102966403079\n",
      "Proliferation\t6\t0.000251035521526296\n",
      "Proliferation, Kupffer cell\t50\t0.0020919626793858\n",
      "Proliferation, bile duct\t161\t0.006736119827622275\n",
      "Proliferation, oval cell\t66\t0.0027613907367892558\n",
      "Pyknosis\t33\t0.0013806953683946279\n",
      "Scar\t6\t0.000251035521526296\n",
      "Single cell necrosis\t445\t0.018618467846533617\n",
      "Swelling\t246\t0.010292456382578134\n",
      "Vacuolization, cytoplasmic\t317\t0.01326304338730597\n",
      "Vacuolization, nuclear\t15\t0.0006275888038157399\n",
      "45\n",
      "0\n",
      "1\n",
      "2\n",
      "3\n",
      "4\n",
      "5\n",
      "6\n",
      "7\n",
      "8\n",
      "9\n",
      "10\n",
      "11\n",
      "12\n",
      "13\n",
      "14\n",
      "15\n",
      "16\n",
      "17\n",
      "18\n",
      "19\n",
      "20\n",
      "21\n",
      "22\n",
      "23\n",
      "24\n",
      "25\n",
      "26\n",
      "27\n",
      "28\n",
      "29\n"
     ]
    }
   ],
   "source": [
    "ft_list.sort()\n",
    "c = 0\n",
    "for f in ft_list:\n",
    "    if len(df[df[f]>0][\"EG\"].unique())>4:\n",
    "        print(f, int(df[f].sum()), df[f].mean(), sep=\"\\t\")\n",
    "        c += 1\n",
    "print(c)\n",
    "for i in range(30):\n",
    "    print(i)"
   ]
  },
  {
   "cell_type": "code",
   "execution_count": 46,
   "metadata": {},
   "outputs": [],
   "source": [
    "moa_df = pd.read_csv(\"../../data/TGGATEs/processed/moa.csv\", index_col=0)"
   ]
  },
  {
   "cell_type": "code",
   "execution_count": 50,
   "metadata": {},
   "outputs": [
    {
     "name": "stdout",
     "output_type": "stream",
     "text": [
      "erythromycin ethylsuccinate;tetracycline;chloramphenicol\n",
      "chlorpromazine;haloperidol;thioridazine\n",
      "azathioprine;carboplatin;cyclophosphamide;lomustine;nitrofurantoin;nitrofurazone\n",
      "acetaminophen;phenylbutazone;naproxen;mefenamic acid;aspirin;sulfasalazine;diclofenac;indomethacin;sulindac\n",
      "chlorpropamide;tolbutamide;glibenclamide\n",
      "ranitidine;cimetidine;famotidine\n",
      "clofibrate;gemfibrozil;fenofibrate\n"
     ]
    }
   ],
   "source": [
    "for col in moa_df.columns:\n",
    "    print([col, \";\".join(moa_df[moa_df[col]>0].index))"
   ]
  },
  {
   "cell_type": "code",
   "execution_count": 7,
   "metadata": {},
   "outputs": [],
   "source": [
    "ft_list = \"\"\"Alteration, cytoplasmic\n",
    "Alteration, nuclear\n",
    "Atrophy\n",
    "Atypia, nuclear\n",
    "Cellular infiltration, mononuclear cell\n",
    "Cellular infiltration\n",
    "Change, acidophilic\n",
    "Change, basophilic\n",
    "Change, eosinophilic\n",
    "Cyst\n",
    "Degeneration\n",
    "Degeneration, acidophilic, eosinophilic\n",
    "Degeneration, fatty\n",
    "Degeneration, granular, eosinophilic\n",
    "Degeneration, hydropic\n",
    "Degeneration, vacuolar\n",
    "Deposit, glycogen\n",
    "Deposit, hemosiderin\n",
    "Deposit, lipid\n",
    "Deposit, pigment\n",
    "Fibrosis\n",
    "Ground glass appearance\n",
    "Hematopoiesis, extramedullary\n",
    "Hemorrhage\n",
    "Hypertrophy\n",
    "Inclusion body, intracytoplasmic\n",
    "Increased mitosis\n",
    "Inflammation\n",
    "Inflammation, suppurative\n",
    "Lesion,NOS\n",
    "Microgranuloma\n",
    "Mineralization\n",
    "Necrosis\n",
    "Nodule, hepatodiaphragmatic\n",
    "Proliferation\n",
    "Proliferation, bile duct\n",
    "Proliferation, Kupffer cell\n",
    "Proliferation, oval cell\n",
    "Scar\n",
    "Single cell necrosis\n",
    "Swelling\n",
    "Thrombus\n",
    "Vacuolization, cytoplasmic\n",
    "Vacuolization, nuclear\"\"\".split(\"\\n\")"
   ]
  },
  {
   "cell_type": "code",
   "execution_count": 9,
   "metadata": {},
   "outputs": [
    {
     "name": "stdout",
     "output_type": "stream",
     "text": [
      "36.0 0.0015062131291577758\n",
      "61.0 0.0025521944688506755\n",
      "12.0 0.000502071043052592\n",
      "9.0 0.00037655328228944395\n",
      "72.0 0.0030124262583155516\n",
      "482.0 0.02016652022927911\n",
      "110.0 0.0046023178946487595\n",
      "70.0 0.0029287477511401195\n",
      "398.0 0.016652022927910966\n",
      "2.0 8.367850717543199e-05\n",
      "24.0 0.001004142086105184\n",
      "19.0 0.0007949458181666039\n",
      "88.0 0.0036818543157190074\n",
      "237.0 0.00991590310028869\n",
      "56.0 0.0023429982009120958\n",
      "8.0 0.00033471402870172796\n",
      "67.0 0.002803229990376972\n",
      "17.0 0.000711267310991172\n",
      "5.0 0.00020919626793857997\n",
      "40.0 0.0016735701435086397\n",
      "69.0 0.0028869084975524035\n",
      "210.0 0.008786243253420358\n",
      "69.0 0.0028869084975524035\n",
      "54.0 0.0022593196937366637\n",
      "1134.0 0.04744571356846994\n",
      "53.0 0.0022174804401489476\n",
      "428.0 0.017907200535542445\n",
      "7.0 0.00029287477511401197\n",
      "4.0 0.00016735701435086398\n",
      "44.0 0.0018409271578595037\n",
      "447.0 0.01870214635370905\n",
      "7.0 0.00029287477511401197\n",
      "614.0 0.02568930170285762\n",
      "13.0 0.0005439102966403079\n",
      "6.0 0.000251035521526296\n",
      "161.0 0.006736119827622275\n",
      "50.0 0.0020919626793858\n",
      "66.0 0.0027613907367892558\n",
      "6.0 0.000251035521526296\n",
      "445.0 0.018618467846533617\n",
      "246.0 0.010292456382578134\n",
      "1.0 4.1839253587715995e-05\n",
      "317.0 0.01326304338730597\n",
      "15.0 0.0006275888038157399\n",
      "\n",
      "\n",
      "\n",
      "\n",
      "\n",
      "\n",
      "\n",
      "\n",
      "\n",
      "\n"
     ]
    },
    {
     "name": "stderr",
     "output_type": "stream",
     "text": [
      "/opt/conda/lib/python3.7/site-packages/IPython/core/interactiveshell.py:3457: DtypeWarning: Columns (6) have mixed types.Specify dtype option on import or set low_memory=False.\n",
      "  exec(code_obj, self.user_global_ns, self.user_ns)\n"
     ]
    }
   ],
   "source": [
    "import pandas as pd\n",
    "\n",
    "info = pd.read_csv(\"../../data/TGGATEs/processed/info.csv\")\n",
    "for ft in ft_list:\n",
    "    print(info[ft].sum(), info[ft].mean())\n",
    "\n",
    "for i in range(10):\n",
    "    print()"
   ]
  },
  {
   "cell_type": "code",
   "execution_count": 29,
   "metadata": {},
   "outputs": [
    {
     "data": {
      "text/plain": [
       "0         40\n",
       "1         40\n",
       "2         40\n",
       "3         40\n",
       "4         40\n",
       "        ... \n",
       "23896    745\n",
       "23897    745\n",
       "23898    745\n",
       "23899    745\n",
       "23900    745\n",
       "Name: EXP_ID, Length: 23901, dtype: int64"
      ]
     },
     "execution_count": 29,
     "metadata": {},
     "output_type": "execute_result"
    }
   ],
   "source": [
    "info[\"EXP_ID\"]"
   ]
  },
  {
   "cell_type": "code",
   "execution_count": 34,
   "metadata": {},
   "outputs": [
    {
     "data": {
      "text/plain": [
       "array(['3 hr', '6 hr', '9 hr', '24 hr', '4 day', '8 day', '15 day',\n",
       "       '29 day'], dtype=object)"
      ]
     },
     "execution_count": 34,
     "metadata": {},
     "output_type": "execute_result"
    }
   ],
   "source": [
    "info[\"SACRI_PERIOD\"].unique()"
   ]
  },
  {
   "cell_type": "code",
   "execution_count": null,
   "metadata": {},
   "outputs": [],
   "source": []
  },
  {
   "cell_type": "code",
   "execution_count": null,
   "metadata": {},
   "outputs": [],
   "source": []
  }
 ],
 "metadata": {
  "kernelspec": {
   "display_name": "base",
   "language": "python",
   "name": "python3"
  },
  "language_info": {
   "codemirror_mode": {
    "name": "ipython",
    "version": 3
   },
   "file_extension": ".py",
   "mimetype": "text/x-python",
   "name": "python",
   "nbconvert_exporter": "python",
   "pygments_lexer": "ipython3",
   "version": "3.7.13"
  },
  "orig_nbformat": 4
 },
 "nbformat": 4,
 "nbformat_minor": 2
}
