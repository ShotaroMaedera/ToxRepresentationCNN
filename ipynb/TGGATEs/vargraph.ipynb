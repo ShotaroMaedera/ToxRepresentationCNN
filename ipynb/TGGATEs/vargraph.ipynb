{
 "cells": [
  {
   "cell_type": "code",
   "execution_count": 1,
   "metadata": {},
   "outputs": [],
   "source": [
    "import pandas as pd"
   ]
  },
  {
   "cell_type": "code",
   "execution_count": 64,
   "metadata": {},
   "outputs": [],
   "source": [
    "df1 = pd.read_csv(\"../../outputs/results/230716var_model_loo.csv\")\n",
    "df2 = pd.read_csv(\"../../outputs/results/230716var_layer_loo.csv\")"
   ]
  },
  {
   "cell_type": "code",
   "execution_count": 65,
   "metadata": {},
   "outputs": [],
   "source": [
    "df3 = pd.DataFrame()\n",
    "df3[\"AUROC Var.\"] = pd.concat([df1[\"AUROC\"], df2[\"AUROC\"]]).to_numpy()\n",
    "df3[\"\"] = [\"Var. between layers\"]*len(df1) + [\"Var. between models\"]*len(df2)"
   ]
  },
  {
   "cell_type": "code",
   "execution_count": 66,
   "metadata": {},
   "outputs": [
    {
     "data": {
      "text/html": [
       "<div>\n",
       "<style scoped>\n",
       "    .dataframe tbody tr th:only-of-type {\n",
       "        vertical-align: middle;\n",
       "    }\n",
       "\n",
       "    .dataframe tbody tr th {\n",
       "        vertical-align: top;\n",
       "    }\n",
       "\n",
       "    .dataframe thead th {\n",
       "        text-align: right;\n",
       "    }\n",
       "</style>\n",
       "<table border=\"1\" class=\"dataframe\">\n",
       "  <thead>\n",
       "    <tr style=\"text-align: right;\">\n",
       "      <th></th>\n",
       "      <th>AUROC Var.</th>\n",
       "      <th></th>\n",
       "    </tr>\n",
       "  </thead>\n",
       "  <tbody>\n",
       "    <tr>\n",
       "      <th>0</th>\n",
       "      <td>NaN</td>\n",
       "      <td>Var. between layers</td>\n",
       "    </tr>\n",
       "    <tr>\n",
       "      <th>1</th>\n",
       "      <td>0.000446</td>\n",
       "      <td>Var. between layers</td>\n",
       "    </tr>\n",
       "    <tr>\n",
       "      <th>2</th>\n",
       "      <td>0.000146</td>\n",
       "      <td>Var. between layers</td>\n",
       "    </tr>\n",
       "    <tr>\n",
       "      <th>3</th>\n",
       "      <td>0.000610</td>\n",
       "      <td>Var. between layers</td>\n",
       "    </tr>\n",
       "    <tr>\n",
       "      <th>4</th>\n",
       "      <td>0.000185</td>\n",
       "      <td>Var. between layers</td>\n",
       "    </tr>\n",
       "    <tr>\n",
       "      <th>5</th>\n",
       "      <td>0.000503</td>\n",
       "      <td>Var. between layers</td>\n",
       "    </tr>\n",
       "    <tr>\n",
       "      <th>6</th>\n",
       "      <td>0.001207</td>\n",
       "      <td>Var. between layers</td>\n",
       "    </tr>\n",
       "    <tr>\n",
       "      <th>7</th>\n",
       "      <td>0.001932</td>\n",
       "      <td>Var. between layers</td>\n",
       "    </tr>\n",
       "    <tr>\n",
       "      <th>8</th>\n",
       "      <td>0.004774</td>\n",
       "      <td>Var. between layers</td>\n",
       "    </tr>\n",
       "    <tr>\n",
       "      <th>9</th>\n",
       "      <td>0.005085</td>\n",
       "      <td>Var. between layers</td>\n",
       "    </tr>\n",
       "    <tr>\n",
       "      <th>10</th>\n",
       "      <td>0.000295</td>\n",
       "      <td>Var. between models</td>\n",
       "    </tr>\n",
       "    <tr>\n",
       "      <th>11</th>\n",
       "      <td>0.000459</td>\n",
       "      <td>Var. between models</td>\n",
       "    </tr>\n",
       "    <tr>\n",
       "      <th>12</th>\n",
       "      <td>0.000255</td>\n",
       "      <td>Var. between models</td>\n",
       "    </tr>\n",
       "    <tr>\n",
       "      <th>13</th>\n",
       "      <td>0.000741</td>\n",
       "      <td>Var. between models</td>\n",
       "    </tr>\n",
       "    <tr>\n",
       "      <th>14</th>\n",
       "      <td>0.000312</td>\n",
       "      <td>Var. between models</td>\n",
       "    </tr>\n",
       "    <tr>\n",
       "      <th>15</th>\n",
       "      <td>0.000310</td>\n",
       "      <td>Var. between models</td>\n",
       "    </tr>\n",
       "    <tr>\n",
       "      <th>16</th>\n",
       "      <td>0.000203</td>\n",
       "      <td>Var. between models</td>\n",
       "    </tr>\n",
       "    <tr>\n",
       "      <th>17</th>\n",
       "      <td>0.000517</td>\n",
       "      <td>Var. between models</td>\n",
       "    </tr>\n",
       "    <tr>\n",
       "      <th>18</th>\n",
       "      <td>0.000222</td>\n",
       "      <td>Var. between models</td>\n",
       "    </tr>\n",
       "  </tbody>\n",
       "</table>\n",
       "</div>"
      ],
      "text/plain": [
       "    AUROC Var.                     \n",
       "0          NaN  Var. between layers\n",
       "1     0.000446  Var. between layers\n",
       "2     0.000146  Var. between layers\n",
       "3     0.000610  Var. between layers\n",
       "4     0.000185  Var. between layers\n",
       "5     0.000503  Var. between layers\n",
       "6     0.001207  Var. between layers\n",
       "7     0.001932  Var. between layers\n",
       "8     0.004774  Var. between layers\n",
       "9     0.005085  Var. between layers\n",
       "10    0.000295  Var. between models\n",
       "11    0.000459  Var. between models\n",
       "12    0.000255  Var. between models\n",
       "13    0.000741  Var. between models\n",
       "14    0.000312  Var. between models\n",
       "15    0.000310  Var. between models\n",
       "16    0.000203  Var. between models\n",
       "17    0.000517  Var. between models\n",
       "18    0.000222  Var. between models"
      ]
     },
     "execution_count": 66,
     "metadata": {},
     "output_type": "execute_result"
    }
   ],
   "source": [
    "df3"
   ]
  },
  {
   "cell_type": "code",
   "execution_count": 67,
   "metadata": {},
   "outputs": [
    {
     "name": "stderr",
     "output_type": "stream",
     "text": [
      "/opt/conda/lib/python3.7/site-packages/ipykernel_launcher.py:6: FutureWarning: Passing `palette` without assigning `hue` is deprecated.\n",
      "  \n"
     ]
    },
    {
     "data": {
      "image/png": "[encoded data removed]",
      "text/plain": [
       "<Figure size 576x432 with 1 Axes>"
      ]
     },
     "metadata": {
      "needs_background": "light"
     },
     "output_type": "display_data"
    }
   ],
   "source": [
    "import seaborn as sns\n",
    "import matplotlib.pyplot as plt\n",
    "plt.figure(figsize=(8,6))\n",
    "plt.rcParams[\"font.size\"] = 16\n",
    "plt.title(\"LOO\")\n",
    "sns.stripplot(data=df3, x=\"\", y=\"AUROC Var.\", palette = \"colorblind\")\n",
    "plt.savefig(\"../../outputs/results/230716_var_loo.tif\", bbox_inches=\"tight\", dpi=300)"
   ]
  },
  {
   "cell_type": "code",
   "execution_count": 63,
   "metadata": {},
   "outputs": [
    {
     "name": "stderr",
     "output_type": "stream",
     "text": [
      "/opt/conda/lib/python3.7/site-packages/ipykernel_launcher.py:10: FutureWarning: Passing `palette` without assigning `hue` is deprecated.\n",
      "  # Remove the CWD from sys.path while we load stuff.\n"
     ]
    },
    {
     "data": {
      "image/png": "[encoded data removed]",
      "text/plain": [
       "<Figure size 576x432 with 1 Axes>"
      ]
     },
     "metadata": {
      "needs_background": "light"
     },
     "output_type": "display_data"
    }
   ],
   "source": [
    "df1 = pd.read_csv(\"../../outputs/results/230716var_model_MoA.csv\")\n",
    "df2 = pd.read_csv(\"../../outputs/results/230716var_layer_MoA.csv\")\n",
    "df3 = pd.DataFrame()\n",
    "df3[\"Balanced Accuracy (Multiclass) Var.\"] = pd.concat([df1[\"Balanced Accuracy (Multiclass)\"], df2[\"Balanced Accuracy (Multiclass)\"]]).to_numpy()\n",
    "df3[\"\"] = [\"Var. between layers\"]*len(df1) + [\"Var. between models\"]*len(df2)\n",
    "\n",
    "plt.figure(figsize=(8,6))\n",
    "plt.rcParams[\"font.size\"] = 16\n",
    "plt.title(\"MoA\")\n",
    "sns.stripplot(data=df3, x=\"\", y=\"Balanced Accuracy (Multiclass) Var.\", palette = \"colorblind\")\n",
    "plt.savefig(\"../../outputs/results/230716_var_MoA.tif\", bbox_inches=\"tight\", dpi=300)"
   ]
  },
  {
   "cell_type": "code",
   "execution_count": 62,
   "metadata": {},
   "outputs": [
    {
     "name": "stderr",
     "output_type": "stream",
     "text": [
      "/opt/conda/lib/python3.7/site-packages/ipykernel_launcher.py:10: FutureWarning: Passing `palette` without assigning `hue` is deprecated.\n",
      "  # Remove the CWD from sys.path while we load stuff.\n"
     ]
    },
    {
     "data": {
      "image/png": "[encoded data removed]",
      "text/plain": [
       "<Figure size 576x432 with 1 Axes>"
      ]
     },
     "metadata": {
      "needs_background": "light"
     },
     "output_type": "display_data"
    }
   ],
   "source": [
    "df1 = pd.read_csv(\"../../outputs/results/230716var_model_prognosis.csv\")\n",
    "df2 = pd.read_csv(\"../../outputs/results/230716var_layer_prognosis.csv\")\n",
    "df3 = pd.DataFrame()\n",
    "df3[\"mAP Var.\"] = pd.concat([df1[\"AP\"], df2[\"AP\"]]).to_numpy()\n",
    "df3[\"\"] = [\"Var. between layers\"]*len(df1) + [\"Var. between models\"]*len(df2)\n",
    "\n",
    "plt.figure(figsize=(8,6))\n",
    "plt.rcParams[\"font.size\"] = 16\n",
    "plt.title(\"ELP\")\n",
    "sns.stripplot(data=df3, x=\"\", y=\"mAP Var.\", palette = \"colorblind\")\n",
    "plt.savefig(\"../../outputs/results/230716_var_prognosis.tif\", bbox_inches=\"tight\", dpi=300)"
   ]
  },
  {
   "cell_type": "code",
   "execution_count": 68,
   "metadata": {},
   "outputs": [
    {
     "data": {
      "text/html": [
       "<div>\n",
       "<style scoped>\n",
       "    .dataframe tbody tr th:only-of-type {\n",
       "        vertical-align: middle;\n",
       "    }\n",
       "\n",
       "    .dataframe tbody tr th {\n",
       "        vertical-align: top;\n",
       "    }\n",
       "\n",
       "    .dataframe thead th {\n",
       "        text-align: right;\n",
       "    }\n",
       "</style>\n",
       "<table border=\"1\" class=\"dataframe\">\n",
       "  <thead>\n",
       "    <tr style=\"text-align: right;\">\n",
       "      <th></th>\n",
       "      <th>AUROC Var.</th>\n",
       "      <th></th>\n",
       "    </tr>\n",
       "  </thead>\n",
       "  <tbody>\n",
       "    <tr>\n",
       "      <th>0</th>\n",
       "      <td>NaN</td>\n",
       "      <td>Var. between layers</td>\n",
       "    </tr>\n",
       "    <tr>\n",
       "      <th>1</th>\n",
       "      <td>0.000446</td>\n",
       "      <td>Var. between layers</td>\n",
       "    </tr>\n",
       "    <tr>\n",
       "      <th>2</th>\n",
       "      <td>0.000146</td>\n",
       "      <td>Var. between layers</td>\n",
       "    </tr>\n",
       "    <tr>\n",
       "      <th>3</th>\n",
       "      <td>0.000610</td>\n",
       "      <td>Var. between layers</td>\n",
       "    </tr>\n",
       "    <tr>\n",
       "      <th>4</th>\n",
       "      <td>0.000185</td>\n",
       "      <td>Var. between layers</td>\n",
       "    </tr>\n",
       "    <tr>\n",
       "      <th>5</th>\n",
       "      <td>0.000503</td>\n",
       "      <td>Var. between layers</td>\n",
       "    </tr>\n",
       "    <tr>\n",
       "      <th>6</th>\n",
       "      <td>0.001207</td>\n",
       "      <td>Var. between layers</td>\n",
       "    </tr>\n",
       "    <tr>\n",
       "      <th>7</th>\n",
       "      <td>0.001932</td>\n",
       "      <td>Var. between layers</td>\n",
       "    </tr>\n",
       "    <tr>\n",
       "      <th>8</th>\n",
       "      <td>0.004774</td>\n",
       "      <td>Var. between layers</td>\n",
       "    </tr>\n",
       "    <tr>\n",
       "      <th>9</th>\n",
       "      <td>0.005085</td>\n",
       "      <td>Var. between layers</td>\n",
       "    </tr>\n",
       "    <tr>\n",
       "      <th>10</th>\n",
       "      <td>0.000295</td>\n",
       "      <td>Var. between models</td>\n",
       "    </tr>\n",
       "    <tr>\n",
       "      <th>11</th>\n",
       "      <td>0.000459</td>\n",
       "      <td>Var. between models</td>\n",
       "    </tr>\n",
       "    <tr>\n",
       "      <th>12</th>\n",
       "      <td>0.000255</td>\n",
       "      <td>Var. between models</td>\n",
       "    </tr>\n",
       "    <tr>\n",
       "      <th>13</th>\n",
       "      <td>0.000741</td>\n",
       "      <td>Var. between models</td>\n",
       "    </tr>\n",
       "    <tr>\n",
       "      <th>14</th>\n",
       "      <td>0.000312</td>\n",
       "      <td>Var. between models</td>\n",
       "    </tr>\n",
       "    <tr>\n",
       "      <th>15</th>\n",
       "      <td>0.000310</td>\n",
       "      <td>Var. between models</td>\n",
       "    </tr>\n",
       "    <tr>\n",
       "      <th>16</th>\n",
       "      <td>0.000203</td>\n",
       "      <td>Var. between models</td>\n",
       "    </tr>\n",
       "    <tr>\n",
       "      <th>17</th>\n",
       "      <td>0.000517</td>\n",
       "      <td>Var. between models</td>\n",
       "    </tr>\n",
       "    <tr>\n",
       "      <th>18</th>\n",
       "      <td>0.000222</td>\n",
       "      <td>Var. between models</td>\n",
       "    </tr>\n",
       "  </tbody>\n",
       "</table>\n",
       "</div>"
      ],
      "text/plain": [
       "    AUROC Var.                     \n",
       "0          NaN  Var. between layers\n",
       "1     0.000446  Var. between layers\n",
       "2     0.000146  Var. between layers\n",
       "3     0.000610  Var. between layers\n",
       "4     0.000185  Var. between layers\n",
       "5     0.000503  Var. between layers\n",
       "6     0.001207  Var. between layers\n",
       "7     0.001932  Var. between layers\n",
       "8     0.004774  Var. between layers\n",
       "9     0.005085  Var. between layers\n",
       "10    0.000295  Var. between models\n",
       "11    0.000459  Var. between models\n",
       "12    0.000255  Var. between models\n",
       "13    0.000741  Var. between models\n",
       "14    0.000312  Var. between models\n",
       "15    0.000310  Var. between models\n",
       "16    0.000203  Var. between models\n",
       "17    0.000517  Var. between models\n",
       "18    0.000222  Var. between models"
      ]
     },
     "execution_count": 68,
     "metadata": {},
     "output_type": "execute_result"
    }
   ],
   "source": [
    "df3"
   ]
  },
  {
   "cell_type": "code",
   "execution_count": null,
   "metadata": {},
   "outputs": [],
   "source": []
  }
 ],
 "metadata": {
  "kernelspec": {
   "display_name": "base",
   "language": "python",
   "name": "python3"
  },
  "language_info": {
   "codemirror_mode": {
    "name": "ipython",
    "version": 3
   },
   "file_extension": ".py",
   "mimetype": "text/x-python",
   "name": "python",
   "nbconvert_exporter": "python",
   "pygments_lexer": "ipython3",
   "version": "3.7.13"
  },
  "orig_nbformat": 4
 },
 "nbformat": 4,
 "nbformat_minor": 2
}
